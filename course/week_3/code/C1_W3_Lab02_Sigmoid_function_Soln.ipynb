{
 "cells": [
  {
   "cell_type": "markdown",
   "metadata": {},
   "source": [
    "# Optional Lab: Logistic Regression\n",
    "\n",
    "In this ungraded lab, you will \n",
    "- explore the sigmoid function (also known as the logistic function)\n",
    "- explore logistic regression; which uses the sigmoid function"
   ]
  },
  {
   "cell_type": "code",
   "execution_count": 1,
   "metadata": {},
   "outputs": [],
   "source": [
    "import numpy as np\n",
    "%matplotlib widget\n",
    "import matplotlib.pyplot as plt\n",
    "from plt_one_addpt_onclick import plt_one_addpt_onclick\n",
    "from lab_utils_common import draw_vthresh\n",
    "plt.style.use('./deeplearning.mplstyle')"
   ]
  },
  {
   "cell_type": "markdown",
   "metadata": {},
   "source": [
    "## Sigmoid or Logistic Function\n",
    "<img align=\"left\" src=\"./images/C1_W3_LogisticRegression_left.png\"     style=\" width:300px; padding: 10px; \" >As discussed in the lecture videos, for a classification task, we can start by using our linear regression model, $f_{\\mathbf{w},b}(\\mathbf{x}^{(i)}) = \\mathbf{w} \\cdot  \\mathbf{x}^{(i)} + b$, to predict $y$ given $x$. \n",
    "- However, we would like the predictions of our classification model to be between 0 and 1 since our output variable $y$ is either 0 or 1. \n",
    "- This can be accomplished by using a \"sigmoid function\" which maps all input values to values between 0 and 1. \n",
    "\n",
    "\n",
    "Let's implement the sigmoid function and see this for ourselves.\n",
    "\n",
    "## Formula for Sigmoid function\n",
    "\n",
    "The formula for a sigmoid function is as follows -  \n",
    "\n",
    "$g(z) = \\frac{1}{1+e^{-z}}\\tag{1}$\n",
    "\n",
    "In the case of logistic regression, z (the input to the sigmoid function), is the output of a linear regression model. \n",
    "- In the case of a single example, $z$ is scalar.\n",
    "- in the case of multiple examples, $z$ may be a vector consisting of $m$ values, one for each example. \n",
    "- The implementation of the sigmoid function should cover both of these potential input formats.\n",
    "Let's implement this in Python."
   ]
  },
  {
   "cell_type": "markdown",
   "metadata": {},
   "source": [
    "NumPy has a function called [`exp()`](https://numpy.org/doc/stable/reference/generated/numpy.exp.html), which offers a convenient way to calculate the exponential ( $e^{z}$) of all elements in the input array (`z`).\n",
    " \n",
    "It also works with a single number as an input, as shown below."
   ]
  },
  {
   "cell_type": "code",
   "execution_count": 3,
   "metadata": {},
   "outputs": [
    {
     "name": "stdout",
     "output_type": "stream",
     "text": [
      "Input to exp: [1 2 3]\n",
      "Output of exp: [ 2.72  7.39 20.09]\n",
      "Input to exp: 1\n",
      "Output of exp: 2.718281828459045\n"
     ]
    }
   ],
   "source": [
    "# Input is an array. \n",
    "input_array = np.array([1,2,3])\n",
    "exp_array = np.exp(input_array)\n",
    "\n",
    "print(\"Input to exp:\", input_array)\n",
    "print(\"Output of exp:\", exp_array)\n",
    "\n",
    "# Input is a single number\n",
    "input_val = 1  \n",
    "exp_val = np.exp(input_val)\n",
    "\n",
    "print(\"Input to exp:\", input_val)\n",
    "print(\"Output of exp:\", exp_val)"
   ]
  },
  {
   "cell_type": "markdown",
   "metadata": {},
   "source": [
    "The `sigmoid` function is implemented in python as shown in the cell below."
   ]
  },
  {
   "cell_type": "code",
   "execution_count": 4,
   "metadata": {},
   "outputs": [],
   "source": [
    "def sigmoid(z):\n",
    "    \"\"\"\n",
    "    Compute the sigmoid of z\n",
    "\n",
    "    Args:\n",
    "        z (ndarray): A scalar, numpy array of any size.\n",
    "\n",
    "    Returns:\n",
    "        g (ndarray): sigmoid(z), with the same shape as z\n",
    "         \n",
    "    \"\"\"\n",
    "\n",
    "    g = 1/(1+np.exp(-z))\n",
    "   \n",
    "    return g"
   ]
  },
  {
   "cell_type": "markdown",
   "metadata": {},
   "source": [
    "Let's see what the output of this function is for various value of `z`"
   ]
  },
  {
   "cell_type": "code",
   "execution_count": 7,
   "metadata": {},
   "outputs": [
    {
     "name": "stdout",
     "output_type": "stream",
     "text": [
      "Input (z), Output (sigmoid(z))\n",
      "[[-1.000e+02  3.720e-44]\n",
      " [-9.900e+01  1.011e-43]\n",
      " [-9.800e+01  2.749e-43]\n",
      " [-9.700e+01  7.472e-43]\n",
      " [-9.600e+01  2.031e-42]\n",
      " [-9.500e+01  5.521e-42]\n",
      " [-9.400e+01  1.501e-41]\n",
      " [-9.300e+01  4.080e-41]\n",
      " [-9.200e+01  1.109e-40]\n",
      " [-9.100e+01  3.014e-40]\n",
      " [-9.000e+01  8.194e-40]\n",
      " [-8.900e+01  2.227e-39]\n",
      " [-8.800e+01  6.055e-39]\n",
      " [-8.700e+01  1.646e-38]\n",
      " [-8.600e+01  4.474e-38]\n",
      " [-8.500e+01  1.216e-37]\n",
      " [-8.400e+01  3.306e-37]\n",
      " [-8.300e+01  8.986e-37]\n",
      " [-8.200e+01  2.443e-36]\n",
      " [-8.100e+01  6.640e-36]\n",
      " [-8.000e+01  1.805e-35]\n",
      " [-7.900e+01  4.906e-35]\n",
      " [-7.800e+01  1.334e-34]\n",
      " [-7.700e+01  3.625e-34]\n",
      " [-7.600e+01  9.854e-34]\n",
      " [-7.500e+01  2.679e-33]\n",
      " [-7.400e+01  7.281e-33]\n",
      " [-7.300e+01  1.979e-32]\n",
      " [-7.200e+01  5.380e-32]\n",
      " [-7.100e+01  1.462e-31]\n",
      " [-7.000e+01  3.975e-31]\n",
      " [-6.900e+01  1.081e-30]\n",
      " [-6.800e+01  2.937e-30]\n",
      " [-6.700e+01  7.985e-30]\n",
      " [-6.600e+01  2.171e-29]\n",
      " [-6.500e+01  5.900e-29]\n",
      " [-6.400e+01  1.604e-28]\n",
      " [-6.300e+01  4.360e-28]\n",
      " [-6.200e+01  1.185e-27]\n",
      " [-6.100e+01  3.221e-27]\n",
      " [-6.000e+01  8.757e-27]\n",
      " [-5.900e+01  2.380e-26]\n",
      " [-5.800e+01  6.470e-26]\n",
      " [-5.700e+01  1.759e-25]\n",
      " [-5.600e+01  4.781e-25]\n",
      " [-5.500e+01  1.300e-24]\n",
      " [-5.400e+01  3.533e-24]\n",
      " [-5.300e+01  9.603e-24]\n",
      " [-5.200e+01  2.610e-23]\n",
      " [-5.100e+01  7.095e-23]\n",
      " [-5.000e+01  1.929e-22]\n",
      " [-4.900e+01  5.243e-22]\n",
      " [-4.800e+01  1.425e-21]\n",
      " [-4.700e+01  3.874e-21]\n",
      " [-4.600e+01  1.053e-20]\n",
      " [-4.500e+01  2.863e-20]\n",
      " [-4.400e+01  7.781e-20]\n",
      " [-4.300e+01  2.115e-19]\n",
      " [-4.200e+01  5.750e-19]\n",
      " [-4.100e+01  1.563e-18]\n",
      " [-4.000e+01  4.248e-18]\n",
      " [-3.900e+01  1.155e-17]\n",
      " [-3.800e+01  3.139e-17]\n",
      " [-3.700e+01  8.533e-17]\n",
      " [-3.600e+01  2.320e-16]\n",
      " [-3.500e+01  6.305e-16]\n",
      " [-3.400e+01  1.714e-15]\n",
      " [-3.300e+01  4.659e-15]\n",
      " [-3.200e+01  1.266e-14]\n",
      " [-3.100e+01  3.442e-14]\n",
      " [-3.000e+01  9.358e-14]\n",
      " [-2.900e+01  2.544e-13]\n",
      " [-2.800e+01  6.914e-13]\n",
      " [-2.700e+01  1.880e-12]\n",
      " [-2.600e+01  5.109e-12]\n",
      " [-2.500e+01  1.389e-11]\n",
      " [-2.400e+01  3.775e-11]\n",
      " [-2.300e+01  1.026e-10]\n",
      " [-2.200e+01  2.789e-10]\n",
      " [-2.100e+01  7.583e-10]\n",
      " [-2.000e+01  2.061e-09]\n",
      " [-1.900e+01  5.603e-09]\n",
      " [-1.800e+01  1.523e-08]\n",
      " [-1.700e+01  4.140e-08]\n",
      " [-1.600e+01  1.125e-07]\n",
      " [-1.500e+01  3.059e-07]\n",
      " [-1.400e+01  8.315e-07]\n",
      " [-1.300e+01  2.260e-06]\n",
      " [-1.200e+01  6.144e-06]\n",
      " [-1.100e+01  1.670e-05]\n",
      " [-1.000e+01  4.540e-05]\n",
      " [-9.000e+00  1.234e-04]\n",
      " [-8.000e+00  3.354e-04]\n",
      " [-7.000e+00  9.111e-04]\n",
      " [-6.000e+00  2.473e-03]\n",
      " [-5.000e+00  6.693e-03]\n",
      " [-4.000e+00  1.799e-02]\n",
      " [-3.000e+00  4.743e-02]\n",
      " [-2.000e+00  1.192e-01]\n",
      " [-1.000e+00  2.689e-01]\n",
      " [ 0.000e+00  5.000e-01]\n",
      " [ 1.000e+00  7.311e-01]\n",
      " [ 2.000e+00  8.808e-01]\n",
      " [ 3.000e+00  9.526e-01]\n",
      " [ 4.000e+00  9.820e-01]\n",
      " [ 5.000e+00  9.933e-01]\n",
      " [ 6.000e+00  9.975e-01]\n",
      " [ 7.000e+00  9.991e-01]\n",
      " [ 8.000e+00  9.997e-01]\n",
      " [ 9.000e+00  9.999e-01]\n",
      " [ 1.000e+01  1.000e+00]\n",
      " [ 1.100e+01  1.000e+00]\n",
      " [ 1.200e+01  1.000e+00]\n",
      " [ 1.300e+01  1.000e+00]\n",
      " [ 1.400e+01  1.000e+00]\n",
      " [ 1.500e+01  1.000e+00]\n",
      " [ 1.600e+01  1.000e+00]\n",
      " [ 1.700e+01  1.000e+00]\n",
      " [ 1.800e+01  1.000e+00]\n",
      " [ 1.900e+01  1.000e+00]\n",
      " [ 2.000e+01  1.000e+00]\n",
      " [ 2.100e+01  1.000e+00]\n",
      " [ 2.200e+01  1.000e+00]\n",
      " [ 2.300e+01  1.000e+00]\n",
      " [ 2.400e+01  1.000e+00]\n",
      " [ 2.500e+01  1.000e+00]\n",
      " [ 2.600e+01  1.000e+00]\n",
      " [ 2.700e+01  1.000e+00]\n",
      " [ 2.800e+01  1.000e+00]\n",
      " [ 2.900e+01  1.000e+00]\n",
      " [ 3.000e+01  1.000e+00]\n",
      " [ 3.100e+01  1.000e+00]\n",
      " [ 3.200e+01  1.000e+00]\n",
      " [ 3.300e+01  1.000e+00]\n",
      " [ 3.400e+01  1.000e+00]\n",
      " [ 3.500e+01  1.000e+00]\n",
      " [ 3.600e+01  1.000e+00]\n",
      " [ 3.700e+01  1.000e+00]\n",
      " [ 3.800e+01  1.000e+00]\n",
      " [ 3.900e+01  1.000e+00]\n",
      " [ 4.000e+01  1.000e+00]\n",
      " [ 4.100e+01  1.000e+00]\n",
      " [ 4.200e+01  1.000e+00]\n",
      " [ 4.300e+01  1.000e+00]\n",
      " [ 4.400e+01  1.000e+00]\n",
      " [ 4.500e+01  1.000e+00]\n",
      " [ 4.600e+01  1.000e+00]\n",
      " [ 4.700e+01  1.000e+00]\n",
      " [ 4.800e+01  1.000e+00]\n",
      " [ 4.900e+01  1.000e+00]\n",
      " [ 5.000e+01  1.000e+00]\n",
      " [ 5.100e+01  1.000e+00]\n",
      " [ 5.200e+01  1.000e+00]\n",
      " [ 5.300e+01  1.000e+00]\n",
      " [ 5.400e+01  1.000e+00]\n",
      " [ 5.500e+01  1.000e+00]\n",
      " [ 5.600e+01  1.000e+00]\n",
      " [ 5.700e+01  1.000e+00]\n",
      " [ 5.800e+01  1.000e+00]\n",
      " [ 5.900e+01  1.000e+00]\n",
      " [ 6.000e+01  1.000e+00]\n",
      " [ 6.100e+01  1.000e+00]\n",
      " [ 6.200e+01  1.000e+00]\n",
      " [ 6.300e+01  1.000e+00]\n",
      " [ 6.400e+01  1.000e+00]\n",
      " [ 6.500e+01  1.000e+00]\n",
      " [ 6.600e+01  1.000e+00]\n",
      " [ 6.700e+01  1.000e+00]\n",
      " [ 6.800e+01  1.000e+00]\n",
      " [ 6.900e+01  1.000e+00]\n",
      " [ 7.000e+01  1.000e+00]\n",
      " [ 7.100e+01  1.000e+00]\n",
      " [ 7.200e+01  1.000e+00]\n",
      " [ 7.300e+01  1.000e+00]\n",
      " [ 7.400e+01  1.000e+00]\n",
      " [ 7.500e+01  1.000e+00]\n",
      " [ 7.600e+01  1.000e+00]\n",
      " [ 7.700e+01  1.000e+00]\n",
      " [ 7.800e+01  1.000e+00]\n",
      " [ 7.900e+01  1.000e+00]\n",
      " [ 8.000e+01  1.000e+00]\n",
      " [ 8.100e+01  1.000e+00]\n",
      " [ 8.200e+01  1.000e+00]\n",
      " [ 8.300e+01  1.000e+00]\n",
      " [ 8.400e+01  1.000e+00]\n",
      " [ 8.500e+01  1.000e+00]\n",
      " [ 8.600e+01  1.000e+00]\n",
      " [ 8.700e+01  1.000e+00]\n",
      " [ 8.800e+01  1.000e+00]\n",
      " [ 8.900e+01  1.000e+00]\n",
      " [ 9.000e+01  1.000e+00]\n",
      " [ 9.100e+01  1.000e+00]\n",
      " [ 9.200e+01  1.000e+00]\n",
      " [ 9.300e+01  1.000e+00]\n",
      " [ 9.400e+01  1.000e+00]\n",
      " [ 9.500e+01  1.000e+00]\n",
      " [ 9.600e+01  1.000e+00]\n",
      " [ 9.700e+01  1.000e+00]\n",
      " [ 9.800e+01  1.000e+00]\n",
      " [ 9.900e+01  1.000e+00]]\n"
     ]
    }
   ],
   "source": [
    "# Generate an array of evenly spaced values between -10 and 10\n",
    "z_tmp = np.arange(-10,11)\n",
    "\n",
    "# Use the function implemented above to get the sigmoid values\n",
    "y = sigmoid(z_tmp)\n",
    "\n",
    "# Code for pretty printing the two arrays next to each other\n",
    "np.set_printoptions(precision=3) \n",
    "print(\"Input (z), Output (sigmoid(z))\")\n",
    "print(np.c_[z_tmp, y])"
   ]
  },
  {
   "cell_type": "markdown",
   "metadata": {},
   "source": [
    "The values in the left column are `z`, and the values in the right column are `sigmoid(z)`. As you can see, the input values to the sigmoid range from -10 to 10, and the output values range from 0 to 1. \n",
    "\n",
    "Now, let's try to plot this function using the `matplotlib` library."
   ]
  },
  {
   "cell_type": "code",
   "execution_count": 10,
   "metadata": {},
   "outputs": [
    {
     "data": {
      "application/vnd.jupyter.widget-view+json": {
       "model_id": "f7b0e9995add4d09ae7488e8e286b3c1",
       "version_major": 2,
       "version_minor": 0
      },
      "text/plain": [
       "Canvas(toolbar=Toolbar(toolitems=[('Home', 'Reset original view', 'home', 'home'), ('Back', 'Back to previous …"
      ]
     },
     "metadata": {},
     "output_type": "display_data"
    }
   ],
   "source": [
    "# Plot z vs sigmoid(z)\n",
    "fig,ax = plt.subplots(1,1,figsize=(5,3))\n",
    "ax.plot(z_tmp, y, c=\"b\")\n",
    "\n",
    "ax.set_title(\"Sigmoid function\")\n",
    "ax.set_ylabel('sigmoid(z)')\n",
    "ax.set_xlabel('z')\n",
    "draw_vthresh(ax,0)"
   ]
  },
  {
   "cell_type": "markdown",
   "metadata": {},
   "source": [
    "As you can see, the sigmoid function approaches  `0` as `z` goes to large negative values and approaches `1` as `z` goes to large positive values.\n"
   ]
  },
  {
   "cell_type": "markdown",
   "metadata": {},
   "source": [
    "## Logistic Regression\n",
    "<img align=\"left\" src=\"./images/C1_W3_LogisticRegression_right.png\"     style=\" width:300px; padding: 10px; \" > A logistic regression model applies the sigmoid to the familiar linear regression model as shown below:\n",
    "\n",
    "$$ f_{\\mathbf{w},b}(\\mathbf{x}^{(i)}) = g(\\mathbf{w} \\cdot \\mathbf{x}^{(i)} + b ) \\tag{2} $$ \n",
    "\n",
    "  where\n",
    "\n",
    "  $g(z) = \\frac{1}{1+e^{-z}}\\tag{3}$\n"
   ]
  },
  {
   "cell_type": "markdown",
   "metadata": {},
   "source": [
    "  \n",
    "Let's apply logistic regression to the categorical data example of tumor classification.  \n",
    "First, load the examples and initial values for the parameters.\n",
    "  \n"
   ]
  },
  {
   "cell_type": "code",
   "execution_count": 8,
   "metadata": {
    "tags": []
   },
   "outputs": [],
   "source": [
    "x_train = np.array([0., 1, 2, 3, 4, 5])\n",
    "y_train = np.array([0,  0, 0, 1, 1, 1])\n",
    "\n",
    "w_in = np.zeros((1))\n",
    "b_in = 0"
   ]
  },
  {
   "cell_type": "markdown",
   "metadata": {},
   "source": [
    "Try the following steps:\n",
    "- Click on 'Run Logistic Regression' to find the best logistic regression model for the given training data\n",
    "    - Note the resulting model fits the data quite well.\n",
    "    - Note, the orange line is '$z$' or $\\mathbf{w} \\cdot \\mathbf{x}^{(i)} + b$  above. It does not match the line in a linear regression model.\n",
    "Further improve these results by applying a *threshold*. \n",
    "- Tick the box on the 'Toggle 0.5 threshold' to show the predictions if a threshold is applied.\n",
    "    - These predictions look good. The predictions match the data\n",
    "    - Now, add further data points in the large tumor size range (near 10), and re-run logistic regression.\n",
    "    - unlike the linear regression model, this model continues to make correct predictions"
   ]
  },
  {
   "cell_type": "code",
   "execution_count": 12,
   "metadata": {},
   "outputs": [
    {
     "data": {
      "application/vnd.jupyter.widget-view+json": {
       "model_id": "1f2641468c2b4f04925dc16313044e4c",
       "version_major": 2,
       "version_minor": 0
      },
      "text/plain": [
       "Canvas(toolbar=Toolbar(toolitems=[('Home', 'Reset original view', 'home', 'home'), ('Back', 'Back to previous …"
      ]
     },
     "metadata": {},
     "output_type": "display_data"
    }
   ],
   "source": [
    "plt.close('all') \n",
    "addpt = plt_one_addpt_onclick( x_train,y_train, w_in, b_in, logistic=True)"
   ]
  },
  {
   "cell_type": "markdown",
   "metadata": {},
   "source": [
    "## Congratulations!\n",
    "You have explored the use of the sigmoid function in logistic regression."
   ]
  }
 ],
 "metadata": {
  "kernelspec": {
   "display_name": "Python 3",
   "language": "python",
   "name": "python3"
  },
  "language_info": {
   "codemirror_mode": {
    "name": "ipython",
    "version": 3
   },
   "file_extension": ".py",
   "mimetype": "text/x-python",
   "name": "python",
   "nbconvert_exporter": "python",
   "pygments_lexer": "ipython3",
   "version": "3.7.6"
  }
 },
 "nbformat": 4,
 "nbformat_minor": 5
}
